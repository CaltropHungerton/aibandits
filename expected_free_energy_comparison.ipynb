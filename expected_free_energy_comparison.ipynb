{
 "cells": [
  {
   "cell_type": "markdown",
   "metadata": {},
   "source": [
    "# Defining the expected free energy"
   ]
  },
  {
   "cell_type": "markdown",
   "metadata": {},
   "source": [
    "The expected free energy is variational approximation of the expected bound on future suprisial normaly defined as\n",
    "\n",
    "$$S(\\pi) = E_{\\tilde{Q}}\\left[\\ln Q(\\tilde{s}|\\pi) -\\ln Q(\\tilde{s}|\\tilde{o}, \\pi) - \\ln P(\\tilde{o}) \\right] \n",
    "    \\leq E_{\\tilde{Q}}\\left[\\ln Q(\\tilde{s}|\\pi) - \\ln P(\\tilde{o}, \\tilde{s}) \\right]  \\equiv G(\\pi) $$\n",
    "\n",
    "where $\\tilde{Q}(\\tilde{o}, \\tilde{s}|\\pi) = P(\\tilde{o}|\\tilde{s})Q(\\tilde{s}|\\pi)$.\n",
    "\n",
    "Starting from the expression above one can either minimise the EFE\n",
    "\n",
    "* $$ G(\\pi) = D_{KL}\\left(Q(\\tilde{s}|\\pi)||P(\\tilde{s})\\right) + E_{Q(\\tilde{s}|\\pi)}\\left[H[\\tilde{o}|\\tilde{s}] \\right]$$\n",
    "\n",
    "or directly the expected suprisal bounded by the EFE\n",
    "\n",
    "* $$ S(\\pi) = E_{\\tilde{Q}}\\left[ \\ln Q(\\tilde{s}|\\pi) - \\ln Q(\\tilde{s}|\\tilde{o}, \\pi) - \\ln P(\\tilde{o}) \\right]$$\n",
    "\n",
    "* $$ S(\\pi) =D_{KL}\\left(Q(\\tilde{o}|\\pi)||P(\\tilde{o}) \\right) - E_{\\tilde{Q}}\\left[\\ln P(\\tilde{o}|\\tilde{s}) \\right]$$ "
   ]
  },
  {
   "cell_type": "markdown",
   "metadata": {},
   "source": [
    "In addition, to the expected free energy we can also consider to minimise the free energy bound on the future expected surprisal defined as  \n",
    "$$-E_{\\tilde{Q}}[\\ln P(\\tilde{o})] \\leq E_{\\tilde{Q}}\\left[\\ln Q(\\tilde{s}|\\tilde{o}, \\pi) - \\ln P(\\tilde{o}, \\tilde{s}) \\right] \\equiv I(\\pi)$$\n",
    "\n",
    "Lets compare this quantities in a simple example."
   ]
  },
  {
   "cell_type": "code",
   "execution_count": 2,
   "metadata": {},
   "outputs": [
    {
     "name": "stdout",
     "output_type": "stream",
     "text": [
      "[-1.36670089 -0.8098506  -0.64939645 -0.69244076 -0.88946165]\n",
      "[-0.65352817 -0.61564747 -0.6244306  -0.6589662  -0.68564111]\n",
      "[-1.42472993 -0.89615522 -0.72051452 -0.72261981 -0.88979611]\n"
     ]
    }
   ],
   "source": [
    "import numpy as np\n",
    "\n",
    "Ps = np.array([.8, .2])\n",
    "Po_s = np.array([[.6, .2], [.4, .8]])\n",
    "Pos = Po_s * Ps\n",
    "\n",
    "Po = Pos.sum(-1)\n",
    "Qs_o = Pos.T/Po\n",
    "\n",
    "Qs_p = np.array([[.2, .8], [.5, .5], [.7, .3], [.9, .1], [.999, .001]]).T\n",
    "n = Qs_p.shape[-1]\n",
    "Qos_p = np.expand_dims(Po_s, -1) * Qs_p\n",
    "Qo_p = Qos_p.sum(-2)\n",
    "\n",
    "qso_p = np.expand_dims(Qs_o, -1) * Qo_p\n",
    "\n",
    "G1 = np.sum(((np.log(Qs_p) - np.expand_dims(np.log(Pos), -1)) * Qos_p).reshape(-1, n), -2)\n",
    "print(-G1)\n",
    "\n",
    "S= (Qo_p * ( np.log(Qo_p) - np.expand_dims(np.log(Po), -1) )).sum(-2) \\\n",
    "    - (Qos_p * np.log(np.expand_dims(Po_s, -1))).reshape(-1, n).sum(-2)\n",
    "print(-S)\n",
    "\n",
    "Qs_o_p = (Qos_p/np.expand_dims(Qo_p, -2)).swapaxes(0, 1)\n",
    "\n",
    "I = np.sum((np.log(Qs_p) - np.log(Ps)[:, None]) * Qs_p, -2) - np.sum( Qo_p * np.log(Qo_p), -2)\n",
    "\n",
    "print(-I)"
   ]
  },
  {
   "cell_type": "markdown",
   "metadata": {},
   "source": [
    "Note that the minima of $G(\\pi)$ (first row) and $\\tilde{G}(\\pi)$ (second row) differ.\n",
    "Curiously the minima of $I(\\pi)$ and $G(\\pi)$ match in this example, whereas $S(\\pi)$ provides a different minima, hence optimal policy. "
   ]
  },
  {
   "cell_type": "markdown",
   "metadata": {},
   "source": [
    "We will compare the different objective functions $S, G, I$ in various variants of dynamic multi-armed bandits."
   ]
  },
  {
   "cell_type": "code",
   "execution_count": null,
   "metadata": {},
   "outputs": [],
   "source": []
  }
 ],
 "metadata": {
  "kernelspec": {
   "display_name": "Python 3",
   "language": "python",
   "name": "python3"
  },
  "language_info": {
   "codemirror_mode": {
    "name": "ipython",
    "version": 3
   },
   "file_extension": ".py",
   "mimetype": "text/x-python",
   "name": "python",
   "nbconvert_exporter": "python",
   "pygments_lexer": "ipython3",
   "version": "3.8.2"
  }
 },
 "nbformat": 4,
 "nbformat_minor": 4
}
