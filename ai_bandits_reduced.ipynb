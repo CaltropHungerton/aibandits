{
 "cells": [
  {
   "cell_type": "markdown",
   "metadata": {},
   "source": [
    "# Mulit-armed bandit"
   ]
  },
  {
   "cell_type": "markdown",
   "metadata": {},
   "source": [
    "Observation are binary values (reward, no-reward) sampled from the binomial distributions with dynamic expected value $\\vec{p}_{t,n}$, where $n$ denotes the chosen bandit. At each time step the reward expectations across bandits would either stay unchanged with $1-\\rho$ or change to a new value (drawn from an uniform distribution over space of categorical distributions) with probability $\\rho$."
   ]
  },
  {
   "cell_type": "code",
   "execution_count": 1,
   "metadata": {},
   "outputs": [],
   "source": [
    "import numpyro as npyro\n",
    "import numpyro.distributions as dist\n",
    "import jax.numpy as np\n",
    "from jax import random, lax, nn, ops"
   ]
  },
  {
   "cell_type": "code",
   "execution_count": 2,
   "metadata": {},
   "outputs": [
    {
     "name": "stdout",
     "output_type": "stream",
     "text": [
      "True\n",
      "[-1.4354845  -0.27180877]\n"
     ]
    }
   ],
   "source": [
    "n = 10\n",
    "rho = .005\n",
    "B1 = (1 - rho) * np.eye(n) + rho * (np.ones((n, n)) - np.eye(n))/(n-1)\n",
    "B1 = np.broadcast_to(B1, (1, n, n))\n",
    "\n",
    "B2 = np.eye(n)[:, None, :]\n",
    "B2 = np.broadcast_to(B2, (n, n + 1, n))\n",
    "B2 = np.concatenate([np.zeros((n, n + 1, 1)), B2], -1)\n",
    "\n",
    "B = [B1, B2]\n",
    "\n",
    "eps = .6\n",
    "base = .2\n",
    "# n, n + 1 | 2\n",
    "A1 = np.concatenate([np.stack([np.ones((n)), np.zeros((n))], -1)[:, None],\n",
    "                     np.stack([1 - (np.eye(n) * eps + base * np.ones((n, n))), \n",
    "                               np.eye(n) * eps + base * np.ones((n, n))], -1)], \n",
    "                    -2)\n",
    "\n",
    "# n, n + 1 | n + 1\n",
    "A2 = np.broadcast_to(np.eye(n + 1)[None], (n, n + 1, n + 1))\n",
    "\n",
    "A = [A1, A2]\n",
    "\n",
    "# 3 | 2\n",
    "A3 = np.array([[1 - base, base], [1 - base - eps, base + eps], [1., 0.]])\n",
    "\n",
    "# n, n + 1| 3\n",
    "p3 = np.zeros((n, n + 1, 1))\n",
    "p3 = ops.index_update(p3, ops.index[:, 0], 1.)\n",
    "A4 = np.concatenate([np.concatenate([np.zeros((n, 1, 2)),\n",
    "                     np.stack([1 - np.eye(n), \n",
    "                               np.eye(n)], -1)], -2),\n",
    "                     p3], \n",
    "                    -1)\n",
    "\n",
    "print(np.all(np.isclose(np.einsum('ijk,ko->ijo', A4, A3), A1)))\n",
    "print(np.log(np.einsum('i,ij->j', np.array([.01, .95, .04]), A3)))"
   ]
  },
  {
   "cell_type": "code",
   "execution_count": 3,
   "metadata": {},
   "outputs": [],
   "source": [
    "def log(x):\n",
    "    return np.nan_to_num(np.log(x))\n",
    "\n",
    "def logit(probs):\n",
    "    lp = log(probs)\n",
    "    return lp - np.nan_to_num(lp.sum(-1)[:, None])/probs.shape[-1]\n",
    "\n",
    "\n",
    "def process(t, choices, states, rng_key):\n",
    "    new_states = []\n",
    "    axis = (0, 1)\n",
    "    for i, b in enumerate(B):\n",
    "        rng_key, _rng_key = random.split(rng_key)\n",
    "        probs = lax.index_take(b, [choices[i], states[i]], axis)\n",
    "        new_states.append(random.categorical(_rng_key, log(probs)))\n",
    "        \n",
    "       \n",
    "    new_states = np.stack(new_states, 0)\n",
    "    \n",
    "    axis = tuple(range(states.shape[0]))\n",
    "    outcomes = []\n",
    "    for a in A:\n",
    "        rng_key, _rng_key = random.split(rng_key)\n",
    "        probs = lax.index_take(a, new_states, axis)\n",
    "        outcomes.append(random.categorical(_rng_key, log(probs)))\n",
    "    \n",
    "    outcomes = np.stack(outcomes, 0)\n",
    "    \n",
    "    return outcomes, new_states\n",
    "\n",
    "def model(t, agent, outcomes, choices, rng_key):\n",
    "    logits = agent.update_beliefs(t, outcomes, choices)\n",
    "    new_choices = []\n",
    "    for logit in logits:\n",
    "        rng_key, _rng_key = random.split(rng_key)\n",
    "        new_choices.append(random.categorical(_rng_key, logit))\n",
    "    \n",
    "    return np.stack(new_choices, 0)\n",
    "\n",
    "class Agent(object):\n",
    "    def __init__(self, \n",
    "                 N, \n",
    "                 na, \n",
    "                 gamma=1., \n",
    "                 U=np.array([-1., 1.]), \n",
    "                 C=np.log(np.array([.01, .95, .04])), \n",
    "                 type='random', \n",
    "                 logging=False):\n",
    "        \n",
    "        self.N = N\n",
    "        self.na = na\n",
    "        self.type = type\n",
    "        self.U = U\n",
    "        self.C = C\n",
    "        self.gamma = gamma\n",
    "        \n",
    "        self.s1 = np.ones((N, na))/na\n",
    "        self.s2 = np.zeros(N, dtype=np.int32)\n",
    "        \n",
    "        self.logging = logging\n",
    "        if self.logging:\n",
    "            self.prior = {\"s1\": [self.s1]}\n",
    "        \n",
    "    def posterior_probs(self, outcomes, choices):\n",
    "        location = outcomes[-1]\n",
    "        reward = outcomes[-2]\n",
    "        \n",
    "        likelihood = lax.index_take(A1, [location, reward], (1, 2))\n",
    "        \n",
    "        b = B1[choices[0]]\n",
    "        prediction = np.einsum('nij,ni->nj', b, self.s1)\n",
    "        assert prediction.shape == likelihood.shape\n",
    "        \n",
    "        posterior = likelihood * prediction\n",
    "        posterior /= posterior.sum(-1)[:, None]\n",
    "        \n",
    "        self.s1 = posterior\n",
    "        self.s2 = location\n",
    "        \n",
    "        if self.logging:\n",
    "            self.prior['s1'].append(posterior)\n",
    "        \n",
    "    def thompson_sampling(self):\n",
    "        probs = np.einsum('ni,ij->nj', self.s1, np.eye(self.na))\n",
    "        return self.gamma * logit(probs)\n",
    "    \n",
    "    def expected_free_energy(self):\n",
    "        qs1 = np.einsum('ni,ij->nj', self.s1, B1[0])\n",
    "        qs2_pi = B2[:, self.s2].swapaxes(0, 1)\n",
    "        \n",
    "        H_s = - np.sum(np.nan_to_num(np.log(A1)) * A1, -1) - np.sum(np.nan_to_num(np.log(A2)) * A2, -1)\n",
    "        H = np.einsum('ni,npj,ij->np', qs1, qs2_pi, H_s)\n",
    "        \n",
    "        qo_pi = np.einsum('ni,npj,ijo->npo', qs1, qs2_pi, A1)\n",
    "        \n",
    "        D = np.sum((np.nan_to_num(np.log(qo_pi)) - self.U) * qo_pi, -1)\n",
    "        \n",
    "        return self.gamma * (-D - H)\n",
    "    \n",
    "    def expected_free_energy2(self):\n",
    "        \n",
    "        qs1 = np.einsum('ni,ij->nj', self.s1, B1[0])\n",
    "        qs2_pi = B2[:, self.s2].swapaxes(0, 1)\n",
    "        \n",
    "        qc_pi = np.einsum('ni,npj,ijc->npc', qs1, qs2_pi, A4)\n",
    "        \n",
    "        H_c = - np.sum(np.nan_to_num(np.log(A3)) * A3, -1)\n",
    "        H = np.einsum('npc,c->np', qc_pi, H_c)\n",
    "        \n",
    "        D = np.sum((np.nan_to_num(np.log(qc_pi)) - self.C) * qc_pi, -1)\n",
    "        \n",
    "        return self.gamma * (-D - H)\n",
    "        \n",
    "    def update_beliefs(self, t, outcomes, choices):\n",
    "        N = self.N\n",
    "        if self.type == 'random':\n",
    "            return [np.zeros((N, 1)), np.zeros((N, self.na))]\n",
    "        else:\n",
    "            self.posterior_probs(outcomes, choices)\n",
    "            if self.type == 'thompson':\n",
    "                logits = self.thompson_sampling()\n",
    "            elif self.type == 'EFE_bound':\n",
    "                logits = self.expected_free_energy()\n",
    "            elif self.type == 'EFE_exact':\n",
    "                logits = self.expected_free_energy2()\n",
    "            else:\n",
    "                logits = np.zeros((N, self.na))\n",
    "            \n",
    "            return [np.zeros((N, 1)), logits]            \n",
    "            \n",
    "    \n",
    "def simulator(agent, process, model, N=100, trials=1000):\n",
    "    \n",
    "    rng_key = random.PRNGKey(4483342)\n",
    "    \n",
    "    states = np.zeros((2, N), dtype=np.int32)\n",
    "    outcomes = np.zeros((2, N), dtype=np.int32)\n",
    "    choices = np.zeros((2, N), dtype=np.int32)\n",
    "    \n",
    "    sequence={\n",
    "        'outcomes': [],\n",
    "        'choices': [],\n",
    "        'states': []\n",
    "    }\n",
    "    carry = (outcomes, choices, states, rng_key)\n",
    "    for t in np.arange(trials):\n",
    "        outcomes, choices, states, rng_key = carry\n",
    "        \n",
    "        rng_key, _rng_key = random.split(rng_key)\n",
    "        new_choices = model(t, agent, outcomes, choices, _rng_key)\n",
    "        \n",
    "        rng_key, _rng_key = random.split(rng_key)\n",
    "        new_outcomes, new_states = process(t, new_choices, states, _rng_key)\n",
    "        \n",
    "        sequence['outcomes'].append(new_outcomes)\n",
    "        sequence['choices'].append(new_choices)\n",
    "        sequence['states'].append(new_states)\n",
    "        carry = (new_outcomes, new_choices, new_states, rng_key)\n",
    "    \n",
    "    for key in sequence:\n",
    "        sequence[key] = np.stack(sequence[key], 0)\n",
    "    \n",
    "    return sequence"
   ]
  },
  {
   "cell_type": "code",
   "execution_count": 4,
   "metadata": {},
   "outputs": [],
   "source": [
    "N = 100\n",
    "agent = Agent(N, n, type='random')\n",
    "sequence = simulator(agent, process, model, N=N)\n",
    "\n",
    "correct = (sequence['states'][:, 0] == sequence['states'][:, 1] - 1).astype(np.float32)\n",
    "regret_random = eps * (1 - correct)"
   ]
  },
  {
   "cell_type": "code",
   "execution_count": 5,
   "metadata": {},
   "outputs": [],
   "source": [
    "agent = Agent(N, n, type='thompson')\n",
    "sequence = simulator(agent, process, model, N=N)\n",
    "correct = (sequence['states'][:, 0] == sequence['states'][:, 1] - 1).astype(np.float32)\n",
    "regret_thompson = eps * (1 - correct)\n",
    "\n",
    "U = np.log(np.einsum('i,ij->j', np.array([.01, .95, .04]), A3))\n",
    "agent = Agent(N, n, gamma=2., U=U, type='EFE_bound')\n",
    "sequence = simulator(agent, process, model, N=N)\n",
    "correct = (sequence['states'][:, 0] == sequence['states'][:, 1] - 1).astype(np.float32)\n",
    "regret_fe_bound = eps * (1 - correct)\n",
    "\n",
    "agent = Agent(N, n, gamma=2., type='EFE_exact')\n",
    "sequence = simulator(agent, process, model, N=N)\n",
    "correct = (sequence['states'][:, 0] == sequence['states'][:, 1] - 1).astype(np.float32)\n",
    "regret_fe_exact = eps * (1 - correct)"
   ]
  },
  {
   "cell_type": "code",
   "execution_count": 6,
   "metadata": {},
   "outputs": [
    {
     "data": {
      "image/png": "[encoded data removed]",
      "text/plain": [
       "<Figure size 432x288 with 1 Axes>"
      ]
     },
     "metadata": {
      "needs_background": "light"
     },
     "output_type": "display_data"
    }
   ],
   "source": [
    "%matplotlib inline\n",
    "import matplotlib.pyplot as plt\n",
    "import seaborn as sns\n",
    "\n",
    "# plt.plot(regret_random.cumsum(0), color='r', alpha=.1);\n",
    "plt.plot(regret_random.cumsum(0).mean(-1), color='r', lw=2, label='random');\n",
    "\n",
    "# plt.plot(regret_thompson.cumsum(0), color='g', alpha=.1);\n",
    "plt.plot(regret_thompson.cumsum(0).mean(-1), color='g', lw=2, label='thompson');\n",
    "\n",
    "# plt.plot(regret_fe.cumsum(0), color='b', alpha=.1);\n",
    "plt.plot(regret_fe_bound.cumsum(0).mean(-1), color='b', lw=2, label='EFE bound');\n",
    "\n",
    "# plt.plot(regret_fe.cumsum(0), color='b', alpha=.1);\n",
    "plt.plot(regret_fe_exact.cumsum(0).mean(-1), color='c', lw=2, label='EFE');"
   ]
  },
  {
   "cell_type": "code",
   "execution_count": 5,
   "metadata": {},
   "outputs": [],
   "source": [
    "from jax import vmap\n",
    "N = 100\n",
    "n = 10\n",
    "trials = 600\n",
    "U = np.log(np.einsum('i,ij->j', np.array([.01, .95, .04]), A3))\n",
    "fixed = regret_random.cumsum(0).mean(-1)[-1]/1000\n",
    "\n",
    "def f(gamma, name):\n",
    "    local_agent = Agent(N, n, gamma=gamma, type=name, U=U)\n",
    "    sequence = simulator(local_agent, process, model, N=N, trials=trials)\n",
    "    correct = (sequence['states'][:, 0] == sequence['states'][:, 1] - 1).astype(np.float32)\n",
    "    regret = eps * (1 - correct)\n",
    "    \n",
    "    vals = regret.sum(0)/trials\n",
    "    perc = np.percentile(vals, [5, 50, 95], axis=-1)\n",
    "    \n",
    "    return perc[0], perc[1], perc[2]\n",
    "\n",
    "vf = np.onp.vectorize(f)\n",
    "\n",
    "gammas = np.array([0., .25, .5, .75, 1., 1.5, 2., 3., 5., 8., 12.])\n",
    "regret_rate = {'random': [fixed] * len(gammas)}\n",
    "for name in ['thompson', 'EFE_bound', 'EFE_exact']:\n",
    "    regret_rate[name] = vf(gammas, name)"
   ]
  },
  {
   "cell_type": "code",
   "execution_count": 7,
   "metadata": {},
   "outputs": [
    {
     "data": {
      "text/plain": [
       "<matplotlib.collections.PolyCollection at 0x7f537315aa60>"
      ]
     },
     "execution_count": 7,
     "metadata": {},
     "output_type": "execute_result"
    },
    {
     "data": {
      "image/png": "[encoded data removed]",
      "text/plain": [
       "<Figure size 432x288 with 1 Axes>"
      ]
     },
     "metadata": {
      "needs_background": "light"
     },
     "output_type": "display_data"
    }
   ],
   "source": [
    "%matplotlib inline\n",
    "import matplotlib.pyplot as plt\n",
    "import seaborn as sns\n",
    "\n",
    "plt.plot(gammas, regret_rate['random'], 'k--')\n",
    "\n",
    "lb, m, ub = regret_rate['thompson']\n",
    "plt.plot(gammas, m, 'r')\n",
    "plt.fill_between(gammas, lb, y2=ub, color='r', alpha=.2)\n",
    "\n",
    "lb, m, ub = regret_rate['EFE_bound']\n",
    "plt.plot(gammas, m, 'b')\n",
    "plt.fill_between(gammas, lb, y2=ub, color='b', alpha=.2)\n",
    "\n",
    "lb, m, ub = regret_rate['EFE_exact']\n",
    "plt.plot(gammas, m, 'c')\n",
    "plt.fill_between(gammas, lb, y2=ub, color='c', alpha=.2)"
   ]
  },
  {
   "cell_type": "code",
   "execution_count": 6,
   "metadata": {},
   "outputs": [
    {
     "data": {
      "text/plain": [
       "<matplotlib.collections.PolyCollection at 0x7fc61aaa3d60>"
      ]
     },
     "execution_count": 6,
     "metadata": {},
     "output_type": "execute_result"
    },
    {
     "data": {
      "image/png": "[encoded data removed]",
      "text/plain": [
       "<Figure size 432x288 with 1 Axes>"
      ]
     },
     "metadata": {
      "needs_background": "light"
     },
     "output_type": "display_data"
    }
   ],
   "source": [
    "%matplotlib inline\n",
    "import matplotlib.pyplot as plt\n",
    "import seaborn as sns\n",
    "\n",
    "plt.plot(gammas, regret_rate['random'], 'k--')\n",
    "\n",
    "lb, m, ub = regret_rate['thompson']\n",
    "plt.plot(gammas, m, 'r')\n",
    "plt.fill_between(gammas, lb, y2=ub, color='r', alpha=.2)\n",
    "\n",
    "lb, m, ub = regret_rate['EFE_bound']\n",
    "plt.plot(gammas, m, 'b')\n",
    "plt.fill_between(gammas, lb, y2=ub, color='b', alpha=.2)\n",
    "\n",
    "lb, m, ub = regret_rate['EFE_exact']\n",
    "plt.plot(gammas, m, 'c')\n",
    "plt.fill_between(gammas, lb, y2=ub, color='c', alpha=.2)"
   ]
  },
  {
   "cell_type": "code",
   "execution_count": null,
   "metadata": {},
   "outputs": [],
   "source": []
  }
 ],
 "metadata": {
  "kernelspec": {
   "display_name": "Python 3",
   "language": "python",
   "name": "python3"
  },
  "language_info": {
   "codemirror_mode": {
    "name": "ipython",
    "version": 3
   },
   "file_extension": ".py",
   "mimetype": "text/x-python",
   "name": "python",
   "nbconvert_exporter": "python",
   "pygments_lexer": "ipython3",
   "version": "3.8.2"
  }
 },
 "nbformat": 4,
 "nbformat_minor": 4
}
